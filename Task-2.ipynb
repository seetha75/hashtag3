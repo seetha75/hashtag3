{
  "nbformat": 4,
  "nbformat_minor": 0,
  "metadata": {
    "colab": {
      "provenance": [],
      "authorship_tag": "ABX9TyPdQTvyKqr4S9JNB4sOBuxv",
      "include_colab_link": true
    },
    "kernelspec": {
      "name": "python3",
      "display_name": "Python 3"
    },
    "language_info": {
      "name": "python"
    }
  },
  "cells": [
    {
      "cell_type": "markdown",
      "metadata": {
        "id": "view-in-github",
        "colab_type": "text"
      },
      "source": [
        "<a href=\"https://colab.research.google.com/github/seetha75/hashtag3/blob/main/Task-2.ipynb\" target=\"_parent\"><img src=\"https://colab.research.google.com/assets/colab-badge.svg\" alt=\"Open In Colab\"/></a>"
      ]
    },
    {
      "cell_type": "code",
      "execution_count": 10,
      "metadata": {
        "colab": {
          "base_uri": "https://localhost:8080/"
        },
        "id": "RnSdQEMWlaPM",
        "outputId": "b663f2b9-7f30-4710-eb8d-1f159addd18d"
      },
      "outputs": [
        {
          "output_type": "stream",
          "name": "stdout",
          "text": [
            "Name: Satya Karthik, Age: 20, City: Hyderabad\n",
            "Enter your name: Alex\n",
            "Enter your age: 28\n",
            "Enter your city: New York City\n",
            "Name: Alex, Age: 28, City: New York City\n",
            "Read from file: 42\n",
            "Read from file: Name: 3, Age: 5, City: 7\n",
            "Read from file: Name: 3, Age: 5, City: 7\n",
            "Reading package lists... Done\n",
            "Building dependency tree... Done\n",
            "Reading state information... Done\n",
            "git is already the newest version (1:2.34.1-1ubuntu1.11).\n",
            "0 upgraded, 0 newly installed, 0 to remove and 49 not upgraded.\n",
            "Cloning into 'your-repository'...\n",
            "fatal: could not read Username for 'https://github.com': No such device or address\n",
            "cp: cannot create regular file '/content/your-repository/': Not a directory\n",
            "[Errno 2] No such file or directory: '/content/your-repository/'\n",
            "/content\n",
            "fatal: not a git repository (or any of the parent directories): .git\n",
            "fatal: not a git repository (or any of the parent directories): .git\n",
            "fatal: not a git repository (or any of the parent directories): .git\n"
          ]
        }
      ],
      "source": [
        "# 1. Hardcoding Variables\n",
        "name = \"Satya Karthik\"\n",
        "age = 20\n",
        "city = \"Hyderabad\"\n",
        "print(f\"Name: {name}, Age: {age}, City: {city}\")\n",
        "\n",
        "# 2. Keyboard Input\n",
        "name = input(\"Enter your name: \")\n",
        "age = input(\"Enter your age: \")\n",
        "city = input(\"Enter your city: \")\n",
        "print(f\"Name: {name}, Age: {age}, City: {city}\")\n",
        "\n",
        "# 3. Read from a File (Single Input)\n",
        "try:\n",
        "    with open('single_input.txt', 'r') as file:\n",
        "        name = file.readline().strip()\n",
        "    print(f\"Read from file: {name}\")\n",
        "except FileNotFoundError:\n",
        "    print(\"File not found. Please make sure the file exists.\")\n",
        "\n",
        "# 4. Read from a File (Multiple Inputs)\n",
        "try:\n",
        "    with open('multiple_inputs.txt', 'r') as file:\n",
        "        name = file.readline().strip()\n",
        "        age = file.readline().strip()\n",
        "        city = file.readline().strip()\n",
        "    print(f\"Read from file: Name: {name}, Age: {age}, City: {city}\")\n",
        "except FileNotFoundError:\n",
        "    print(\"File not found. Please make sure the file exists.\")\n",
        "except ValueError:\n",
        "    print(\"Error: Incorrect number of lines in the input file.\")\n",
        "\n",
        "# 5. Save All Versions\n",
        "with open(\"program_v1.py\", \"w\") as file:\n",
        "    file.write(\"\"\"# Example program\n",
        "name = \"John\"\n",
        "age = 25\n",
        "city = \"New York\"\n",
        "print(f\"Name: {name}, Age: {age}, City: {city}\")\"\"\")\n",
        "\n",
        "with open(\"program_v2.py\", \"w\") as file:\n",
        "    file.write(\"\"\"# Example program with user input\n",
        "name = input(\"Enter your name: \")\n",
        "age = input(\"Enter your age: \")\n",
        "city = input(\"Enter your city: \")\n",
        "print(f\"Name: {name}, Age: {age}, City: {city}\")\"\"\")\n",
        "\n",
        "# 6. Debugging Example\n",
        "try:\n",
        "    with open('multiple_inputs.txt', 'r') as file:\n",
        "        name = file.readline().strip()\n",
        "        age = file.readline().strip()\n",
        "        city = file.readline().strip()\n",
        "\n",
        "    if not name or not age or not city:\n",
        "        raise ValueError(\"File format is incorrect or contains empty values.\")\n",
        "\n",
        "    print(f\"Read from file: Name: {name}, Age: {age}, City: {city}\")\n",
        "except FileNotFoundError:\n",
        "    print(\"File not found. Please make sure the file exists.\")\n",
        "except ValueError as e:\n",
        "    print(f\"ValueError: {e}\")\n",
        "\n",
        "# 7. Push to GitHub\n",
        "!apt-get install git\n",
        "!git config --global user.name \"seetha75\"\n",
        "!git config --global user.email \"sseetha@gitam.in\"\n",
        "!git clone https://github.com/yourusername/your-repository.git\n",
        "!cp program_v1.py /content/your-repository/\n",
        "%cd /content/your-repository/\n",
        "!git add .\n",
        "!git commit -m \"Added program version 1\"\n",
        "!git push https://github.com/yourusername/your-repository.git\n"
      ]
    }
  ]
}