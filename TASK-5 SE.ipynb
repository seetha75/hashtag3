{
  "nbformat": 4,
  "nbformat_minor": 0,
  "metadata": {
    "colab": {
      "provenance": [],
      "mount_file_id": "1QeZSPJftzVz5O_IQlNspqpUKGGAnf9RG",
      "authorship_tag": "ABX9TyMynUS6xkMA8DJ+KO7lhz+4",
      "include_colab_link": true
    },
    "kernelspec": {
      "name": "python3",
      "display_name": "Python 3"
    },
    "language_info": {
      "name": "python"
    }
  },
  "cells": [
    {
      "cell_type": "markdown",
      "metadata": {
        "id": "view-in-github",
        "colab_type": "text"
      },
      "source": [
        "<a href=\"https://colab.research.google.com/github/seetha75/hashtag3/blob/main/TASK-5%20SE.ipynb\" target=\"_parent\"><img src=\"https://colab.research.google.com/assets/colab-badge.svg\" alt=\"Open In Colab\"/></a>"
      ]
    },
    {
      "cell_type": "code",
      "execution_count": null,
      "metadata": {
        "colab": {
          "base_uri": "https://localhost:8080/"
        },
        "id": "EOsEGhYy10V8",
        "outputId": "65f45d00-bfd7-40ef-e654-370042f5e86c"
      },
      "outputs": [
        {
          "output_type": "stream",
          "name": "stdout",
          "text": [
            "At time (time) seconds, the temperature is (temperature:.2f)°c.\n"
          ]
        }
      ],
      "source": [
        "#Hardcoding Variables\n",
        "a = 3.8\n",
        "b = -6.5\n",
        "c = 17.0\n",
        "time = 18\n",
        "temperature = a * (time ** 2) + b * time+ c\n",
        "print(f\"At time (time) seconds, the temperature is (temperature:.2f)°c.\")"
      ]
    },
    {
      "cell_type": "code",
      "source": [
        "#Accept coefficients from the user\n",
        "a = float(input(\"Enter the coefficient 'a' (for time^2): \"))\n",
        "b= float(input(\"Enter the coefficient 'b' (for time): \"))\n",
        "c = float(input(\"Enter the constant 'c': \"))\n",
        "time = float(input(\"Enter the time value (seconds): \"))\n",
        "temperature = a * (time**2) + b* time + c\n",
        "print(f\"At time (time) seconds, the temperature is (temperature:.2f)°C.\")"
      ],
      "metadata": {
        "colab": {
          "base_uri": "https://localhost:8080/"
        },
        "id": "_dryvd1H6z-F",
        "outputId": "3f314609-d01c-4f35-8fc8-66e66e016710"
      },
      "execution_count": 4,
      "outputs": [
        {
          "output_type": "stream",
          "name": "stdout",
          "text": [
            "Enter the coefficient 'a' (for time^2): 6\n",
            "Enter the coefficient 'b' (for time): 18\n",
            "Enter the constant 'c': 7\n",
            "Enter the time value (seconds): 24\n",
            "At time (time) seconds, the temperature is (temperature:.2f)°C.\n"
          ]
        }
      ]
    },
    {
      "cell_type": "code",
      "source": [
        "from google.colab import drive\n",
        "drive.mount('/content/drive')"
      ],
      "metadata": {
        "id": "zIUxnV4W7fAX"
      },
      "execution_count": null,
      "outputs": []
    },
    {
      "cell_type": "code",
      "source": [
        "# Read coefficients from a file\n",
        "def read_coefficients_from_file(filename):\n",
        "  coefficients = {}\n",
        "  with open(filename, 'r') as file:\n",
        "    for line in file:\n",
        "      #split the line into a key and value\n",
        "       key, value = line.strip().split('-')\n",
        "       coefficients[key] = float (value) #convert value to float\n",
        "  return coefficients\n",
        "\n",
        "  filename = 'coefficients.txt'\n",
        "\n",
        "  coefficients = read_coefficients_from_file(filename)\n",
        "  a = coefficients['a']\n",
        "  b = coefficients['b']\n",
        "  c = coefficients['c']\n",
        "  time = coefficients['time']\n",
        "\n",
        "  temperature = a * (time ** 2)+b * time + c\n",
        "  print(f\"At time {time} seconds, the temperature is {temperature:.2f}°C.\")\n"
      ],
      "metadata": {
        "id": "jcar_4xZ7h6l"
      },
      "execution_count": 21,
      "outputs": []
    },
    {
      "cell_type": "code",
      "source": [
        "#Function to process multiple sets of inputs from a file\n",
        "def process_multiple_sets(filename):\n",
        "   with open(filename, 'r') as file:\n",
        "     print(\"Processing multiple sets of inputs...\\n\")\n",
        "     for line_num, line in enumerate(file, start=1):\n",
        "         try:\n",
        "           coefficients = {}\n",
        "           for item in line.strip().split(','):\n",
        "               key, value = item.strip().split('=')\n",
        "               coefficients[key.strip()] = float(value.strip())\n",
        "\n",
        "\n",
        "           a = coefficients['a']\n",
        "           b = coefficients['b']\n",
        "           c = coefficients['c']\n",
        "           time = coefficients['time']\n",
        "           temperature = a * (time ** 2) + b * time + c\n",
        "\n",
        "           print(f\"Set {line_num}: At time {time} seconds, the temperature is {temperature:.2f}°C.\")\n",
        "         except Exception as e:\n",
        "            print(f\"Error processing line {line_num}: {line.strip()} - ({e})\")\n",
        "filename = 'multiple_sets.txt'\n",
        "process_multiple_sets(filename)"
      ],
      "metadata": {
        "colab": {
          "base_uri": "https://localhost:8080/",
          "height": 297
        },
        "id": "xs4U8B79CA3H",
        "outputId": "fc5b244b-d658-4f26-ad54-ae3bb3fe4056"
      },
      "execution_count": 34,
      "outputs": [
        {
          "output_type": "error",
          "ename": "FileNotFoundError",
          "evalue": "[Errno 2] No such file or directory: 'multiple_sets.txt'",
          "traceback": [
            "\u001b[0;31m---------------------------------------------------------------------------\u001b[0m",
            "\u001b[0;31mFileNotFoundError\u001b[0m                         Traceback (most recent call last)",
            "\u001b[0;32m<ipython-input-34-2da2063a39de>\u001b[0m in \u001b[0;36m<cell line: 23>\u001b[0;34m()\u001b[0m\n\u001b[1;32m     21\u001b[0m             \u001b[0mprint\u001b[0m\u001b[0;34m(\u001b[0m\u001b[0;34mf\"Error processing line {line_num}: {line.strip()} - ({e})\"\u001b[0m\u001b[0;34m)\u001b[0m\u001b[0;34m\u001b[0m\u001b[0;34m\u001b[0m\u001b[0m\n\u001b[1;32m     22\u001b[0m \u001b[0mfilename\u001b[0m \u001b[0;34m=\u001b[0m \u001b[0;34m'multiple_sets.txt'\u001b[0m\u001b[0;34m\u001b[0m\u001b[0;34m\u001b[0m\u001b[0m\n\u001b[0;32m---> 23\u001b[0;31m \u001b[0mprocess_multiple_sets\u001b[0m\u001b[0;34m(\u001b[0m\u001b[0mfilename\u001b[0m\u001b[0;34m)\u001b[0m\u001b[0;34m\u001b[0m\u001b[0;34m\u001b[0m\u001b[0m\n\u001b[0m",
            "\u001b[0;32m<ipython-input-34-2da2063a39de>\u001b[0m in \u001b[0;36mprocess_multiple_sets\u001b[0;34m(filename)\u001b[0m\n\u001b[1;32m      1\u001b[0m \u001b[0;31m#Function to process multiple sets of inputs from a file\u001b[0m\u001b[0;34m\u001b[0m\u001b[0;34m\u001b[0m\u001b[0m\n\u001b[1;32m      2\u001b[0m \u001b[0;32mdef\u001b[0m \u001b[0mprocess_multiple_sets\u001b[0m\u001b[0;34m(\u001b[0m\u001b[0mfilename\u001b[0m\u001b[0;34m)\u001b[0m\u001b[0;34m:\u001b[0m\u001b[0;34m\u001b[0m\u001b[0;34m\u001b[0m\u001b[0m\n\u001b[0;32m----> 3\u001b[0;31m    \u001b[0;32mwith\u001b[0m \u001b[0mopen\u001b[0m\u001b[0;34m(\u001b[0m\u001b[0mfilename\u001b[0m\u001b[0;34m,\u001b[0m \u001b[0;34m'r'\u001b[0m\u001b[0;34m)\u001b[0m \u001b[0;32mas\u001b[0m \u001b[0mfile\u001b[0m\u001b[0;34m:\u001b[0m\u001b[0;34m\u001b[0m\u001b[0;34m\u001b[0m\u001b[0m\n\u001b[0m\u001b[1;32m      4\u001b[0m      \u001b[0mprint\u001b[0m\u001b[0;34m(\u001b[0m\u001b[0;34m\"Processing multiple sets of inputs...\\n\"\u001b[0m\u001b[0;34m)\u001b[0m\u001b[0;34m\u001b[0m\u001b[0;34m\u001b[0m\u001b[0m\n\u001b[1;32m      5\u001b[0m      \u001b[0;32mfor\u001b[0m \u001b[0mline_num\u001b[0m\u001b[0;34m,\u001b[0m \u001b[0mline\u001b[0m \u001b[0;32min\u001b[0m \u001b[0menumerate\u001b[0m\u001b[0;34m(\u001b[0m\u001b[0mfile\u001b[0m\u001b[0;34m,\u001b[0m \u001b[0mstart\u001b[0m\u001b[0;34m=\u001b[0m\u001b[0;36m1\u001b[0m\u001b[0;34m)\u001b[0m\u001b[0;34m:\u001b[0m\u001b[0;34m\u001b[0m\u001b[0;34m\u001b[0m\u001b[0m\n",
            "\u001b[0;31mFileNotFoundError\u001b[0m: [Errno 2] No such file or directory: 'multiple_sets.txt'"
          ]
        }
      ]
    },
    {
      "cell_type": "markdown",
      "source": [],
      "metadata": {
        "id": "C20wmhUA9abc"
      }
    }
  ]
}